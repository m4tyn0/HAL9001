{
 "cells": [
  {
   "cell_type": "code",
   "execution_count": 1,
   "metadata": {},
   "outputs": [],
   "source": [
    "from typing import TypedDict, Annotated\n",
    "from langchain_anthropic import ChatAnthropic\n",
    "from langchain.tools import BaseTool\n",
    "from langgraph.graph import Graph, END\n",
    "from langgraph.prebuilt import ToolExecutor\n",
    "from langgraph.prebuilt.tool_node import tools_condition\n",
    "from langgraph.graph.message import add_messages\n",
    "import os\n",
    "\n",
    "\n",
    "class AgentState(TypedDict):\n",
    "    messages: Annotated[list, add_messages]\n",
    "\n",
    "\n",
    "def create_chat_workflow(db_handler):\n",
    "    anthropic_api_key = os.getenv(\"ANTHROPIC_API_KEY\")\n",
    "\n",
    "    chat_model = ChatAnthropic(\n",
    "        model=\"claude-3-haiku-20240307\", anthropic_api_key=anthropic_api_key)\n",
    "\n",
    "    # Assuming DatabaseTool is a subclass of BaseTool\n",
    "    database_tool = DatabaseTool(db_handler)\n",
    "    tools = [database_tool]\n",
    "\n",
    "    # tool_executor = ToolExecutor(tools)\n",
    "\n",
    "    def agent(state: AgentState):\n",
    "        messages = state['messages']\n",
    "        response = chat_model.invoke(messages)\n",
    "        return {\"messages\": [response]}\n",
    "\n",
    "    workflow = Graph()\n",
    "\n",
    "    workflow.add_node(\"agent\", agent)\n",
    "    workflow.add_node(\"tools\", tool_executor)\n",
    "\n",
    "    workflow.add_edge(\"agent\", tools_condition)\n",
    "    workflow.add_edge(\"tools\", \"agent\")\n",
    "    workflow.set_entry_point(\"agent\")\n",
    "\n",
    "    return workflow.compile()"
   ]
  },
  {
   "cell_type": "code",
   "execution_count": 5,
   "metadata": {},
   "outputs": [
    {
     "ename": "ModuleNotFoundError",
     "evalue": "No module named 'src'",
     "output_type": "error",
     "traceback": [
      "\u001b[0;31m---------------------------------------------------------------------------\u001b[0m",
      "\u001b[0;31mModuleNotFoundError\u001b[0m                       Traceback (most recent call last)",
      "Cell \u001b[0;32mIn[5], line 4\u001b[0m\n\u001b[1;32m      2\u001b[0m \u001b[38;5;28;01mfrom\u001b[39;00m \u001b[38;5;21;01mdotenv\u001b[39;00m \u001b[38;5;28;01mimport\u001b[39;00m load_dotenv\n\u001b[1;32m      3\u001b[0m \u001b[38;5;28;01mfrom\u001b[39;00m \u001b[38;5;21;01mpymongo\u001b[39;00m \u001b[38;5;28;01mimport\u001b[39;00m MongoClient\n\u001b[0;32m----> 4\u001b[0m \u001b[38;5;28;01mfrom\u001b[39;00m \u001b[38;5;21;01msrc\u001b[39;00m\u001b[38;5;21;01m.\u001b[39;00m\u001b[38;5;21;01mcli\u001b[39;00m\u001b[38;5;21;01m.\u001b[39;00m\u001b[38;5;21;01mcli\u001b[39;00m \u001b[38;5;28;01mimport\u001b[39;00m create_cli\n\u001b[1;32m      5\u001b[0m \u001b[38;5;28;01mfrom\u001b[39;00m \u001b[38;5;21;01mengine\u001b[39;00m\u001b[38;5;21;01m.\u001b[39;00m\u001b[38;5;21;01mcommand_handler\u001b[39;00m \u001b[38;5;28;01mimport\u001b[39;00m CommandHandler\n\u001b[1;32m      6\u001b[0m \u001b[38;5;28;01mfrom\u001b[39;00m \u001b[38;5;21;01mdatabase\u001b[39;00m\u001b[38;5;21;01m.\u001b[39;00m\u001b[38;5;21;01mhandlers\u001b[39;00m\u001b[38;5;21;01m.\u001b[39;00m\u001b[38;5;21;01mdatabase_handler\u001b[39;00m \u001b[38;5;28;01mimport\u001b[39;00m DatabaseHandler\n",
      "\u001b[0;31mModuleNotFoundError\u001b[0m: No module named 'src'"
     ]
    }
   ],
   "source": [
    "import os\n",
    "from dotenv import load_dotenv\n",
    "from pymongo import MongoClient\n",
    "from src.cli.cli import create_cli\n",
    "from engine.command_handler import CommandHandler\n",
    "from database.handlers.database_handler import DatabaseHandler\n",
    "\n",
    "mongodb_uri = os.getenv('MONGODB_URI')\n",
    "db_name = os.getenv('MONGODB_DATABASE')\n",
    "\n",
    "if not mongodb_uri:\n",
    "    raise ValueError(\"MONGODB_URI environment variable is not set\")\n",
    "if not db_name:\n",
    "    raise ValueError(\"MONGODB_DATABASE environment variable is not set\")\n",
    "\n",
    "client = MongoClient(mongodb_uri)\n",
    "db = client[db_name]  # Explicitly select the database\n",
    "db_handler = DatabaseHandler(db)\n",
    "command_handler = CommandHandler(db_handler)\n",
    "return create_cli(command_handler)"
   ]
  },
  {
   "cell_type": "code",
   "execution_count": 4,
   "metadata": {},
   "outputs": [
    {
     "ename": "NameError",
     "evalue": "name 'src' is not defined",
     "output_type": "error",
     "traceback": [
      "\u001b[0;31m---------------------------------------------------------------------------\u001b[0m",
      "\u001b[0;31mNameError\u001b[0m                                 Traceback (most recent call last)",
      "Cell \u001b[0;32mIn[4], line 1\u001b[0m\n\u001b[0;32m----> 1\u001b[0m PYTHONPATH \u001b[38;5;241m=\u001b[39m \u001b[43msrc\u001b[49m \n",
      "\u001b[0;31mNameError\u001b[0m: name 'src' is not defined"
     ]
    }
   ],
   "source": [
    "PYTHONPATH = src"
   ]
  },
  {
   "cell_type": "code",
   "execution_count": 19,
   "metadata": {},
   "outputs": [
    {
     "ename": "ModuleNotFoundError",
     "evalue": "No module named 'src'",
     "output_type": "error",
     "traceback": [
      "\u001b[0;31m---------------------------------------------------------------------------\u001b[0m",
      "\u001b[0;31mModuleNotFoundError\u001b[0m                       Traceback (most recent call last)",
      "Cell \u001b[0;32mIn[19], line 44\u001b[0m\n\u001b[1;32m     42\u001b[0m \u001b[38;5;28;01mfrom\u001b[39;00m \u001b[38;5;21;01mdotenv\u001b[39;00m \u001b[38;5;28;01mimport\u001b[39;00m load_dotenv\n\u001b[1;32m     43\u001b[0m \u001b[38;5;28;01mfrom\u001b[39;00m \u001b[38;5;21;01mpymongo\u001b[39;00m \u001b[38;5;28;01mimport\u001b[39;00m MongoClient\n\u001b[0;32m---> 44\u001b[0m \u001b[38;5;28;01mfrom\u001b[39;00m \u001b[38;5;21;01msrc\u001b[39;00m\u001b[38;5;21;01m.\u001b[39;00m\u001b[38;5;21;01mcli\u001b[39;00m\u001b[38;5;21;01m.\u001b[39;00m\u001b[38;5;21;01mcli\u001b[39;00m \u001b[38;5;28;01mimport\u001b[39;00m create_cli\n\u001b[1;32m     45\u001b[0m \u001b[38;5;28;01mfrom\u001b[39;00m \u001b[38;5;21;01mengine\u001b[39;00m\u001b[38;5;21;01m.\u001b[39;00m\u001b[38;5;21;01mcommand_handler\u001b[39;00m \u001b[38;5;28;01mimport\u001b[39;00m CommandHandler\n\u001b[1;32m     46\u001b[0m \u001b[38;5;28;01mfrom\u001b[39;00m \u001b[38;5;21;01mdatabase\u001b[39;00m\u001b[38;5;21;01m.\u001b[39;00m\u001b[38;5;21;01mhandlers\u001b[39;00m\u001b[38;5;21;01m.\u001b[39;00m\u001b[38;5;21;01mdatabase_handler\u001b[39;00m \u001b[38;5;28;01mimport\u001b[39;00m DatabaseHandler\n",
      "\u001b[0;31mModuleNotFoundError\u001b[0m: No module named 'src'"
     ]
    }
   ],
   "source": [
    "from typing import TypedDict, Annotated\n",
    "from langchain_anthropic import ChatAnthropic\n",
    "from langchain.tools import BaseTool\n",
    "from langgraph.graph import Graph, END\n",
    "from langgraph.prebuilt import ToolExecutor\n",
    "from langgraph.prebuilt.tool_node import tools_condition\n",
    "from langgraph.graph.message import add_messages\n",
    "import os\n",
    "\n",
    "class AgentState(TypedDict):\n",
    "    messages: Annotated[list, add_messages]\n",
    "\n",
    "def create_chat_workflow(db_handler):\n",
    "    anthropic_api_key = os.getenv(\"ANTHROPIC_API_KEY\")\n",
    "\n",
    "    chat_model = ChatAnthropic(\n",
    "        model=\"claude-3-haiku-20240307\", anthropic_api_key=anthropic_api_key)\n",
    "\n",
    "    # Assuming DatabaseTool is a subclass of BaseTool\n",
    "    database_tool = DatabaseTool(db_handler)\n",
    "    tools = [database_tool]\n",
    "\n",
    "    tool_executor = ToolExecutor(tools)\n",
    "\n",
    "    def agent(state: AgentState):\n",
    "        messages = state['messages']\n",
    "        response = chat_model.invoke(messages)\n",
    "        return {\"messages\": [response]}\n",
    "\n",
    "    workflow = Graph()\n",
    "\n",
    "    workflow.add_node(\"agent\", agent)\n",
    "    workflow.add_node(\"tools\", tool_executor)\n",
    "\n",
    "    workflow.add_edge(\"agent\", tools_condition)\n",
    "    workflow.add_edge(\"tools\", \"agent\")\n",
    "    workflow.set_entry_point(\"agent\")\n",
    "\n",
    "    return workflow.compile()\n",
    "\n",
    "import os\n",
    "from dotenv import load_dotenv\n",
    "from pymongo import MongoClient\n",
    "from src.cli.cli import create_cli\n",
    "from engine.command_handler import CommandHandler\n",
    "from database.handlers.database_handler import DatabaseHandler\n",
    "\n",
    "# Load environment variables from .env file\n",
    "load_dotenv()\n",
    "\n",
    "mongodb_uri = os.getenv('MONGODB_URI')\n",
    "db_name = os.getenv('MONGODB_DATABASE')\n",
    "\n",
    "if not mongodb_uri:\n",
    "    raise ValueError(\"MONGODB_URI environment variable is not set\")\n",
    "if not db_name:\n",
    "    raise ValueError(\"MONGODB_DATABASE environment variable is not set\")\n",
    "\n",
    "client = MongoClient(mongodb_uri)\n",
    "db = client[db_name]  # Explicitly select the database\n",
    "db_handler = DatabaseHandler(db)\n",
    "command_handler = CommandHandler(db_handler)\n",
    "\n",
    "workflow = create_chat_workflow(db_handler)\n",
    "# result = workflow.invoke({\"messages\": [HumanMessage(content=\"Hello, can you help me?\")]})"
   ]
  },
  {
   "cell_type": "code",
   "execution_count": 4,
   "metadata": {},
   "outputs": [
    {
     "ename": "NameError",
     "evalue": "name 'db_handler' is not defined",
     "output_type": "error",
     "traceback": [
      "\u001b[0;31m---------------------------------------------------------------------------\u001b[0m",
      "\u001b[0;31mNameError\u001b[0m                                 Traceback (most recent call last)",
      "Cell \u001b[0;32mIn[4], line 1\u001b[0m\n\u001b[0;32m----> 1\u001b[0m workflow \u001b[38;5;241m=\u001b[39m create_chat_workflow(\u001b[43mdb_handler\u001b[49m)\n\u001b[1;32m      2\u001b[0m \u001b[38;5;66;03m# result = workflow.invoke({\"messages\": [HumanMessage(content=\"Hello, can you help me?\")]})\u001b[39;00m\n",
      "\u001b[0;31mNameError\u001b[0m: name 'db_handler' is not defined"
     ]
    }
   ],
   "source": [
    "workflow = create_chat_workflow(db_handler)\n",
    "# result = workflow.invoke({\"messages\": [HumanMessage(content=\"Hello, can you help me?\")]})"
   ]
  },
  {
   "cell_type": "code",
   "execution_count": null,
   "metadata": {},
   "outputs": [],
   "source": []
  }
 ],
 "metadata": {
  "kernelspec": {
   "display_name": "venv",
   "language": "python",
   "name": "python3"
  },
  "language_info": {
   "codemirror_mode": {
    "name": "ipython",
    "version": 3
   },
   "file_extension": ".py",
   "mimetype": "text/x-python",
   "name": "python",
   "nbconvert_exporter": "python",
   "pygments_lexer": "ipython3",
   "version": "3.12.5"
  }
 },
 "nbformat": 4,
 "nbformat_minor": 2
}
