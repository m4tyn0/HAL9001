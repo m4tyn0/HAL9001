{
 "cells": [
  {
   "cell_type": "code",
   "execution_count": 1,
   "metadata": {},
   "outputs": [
    {
     "ename": "AttributeError",
     "evalue": "'DatabaseTool' object has no attribute 'description'",
     "output_type": "error",
     "traceback": [
      "\u001b[0;31m---------------------------------------------------------------------------\u001b[0m",
      "\u001b[0;31mAttributeError\u001b[0m                            Traceback (most recent call last)",
      "Cell \u001b[0;32mIn[1], line 22\u001b[0m\n\u001b[1;32m     20\u001b[0m db \u001b[38;5;241m=\u001b[39m client[db_name]  \u001b[38;5;66;03m# Explicitly select the database\u001b[39;00m\n\u001b[1;32m     21\u001b[0m db_handler \u001b[38;5;241m=\u001b[39m DatabaseHandler(db)\n\u001b[0;32m---> 22\u001b[0m command_handler \u001b[38;5;241m=\u001b[39m \u001b[43mCommandHandler\u001b[49m\u001b[43m(\u001b[49m\u001b[43mdb_handler\u001b[49m\u001b[43m)\u001b[49m\n",
      "File \u001b[0;32m~/Projects/AI projects/HAL9001/src/engine/command_handler.py:23\u001b[0m, in \u001b[0;36mCommandHandler.__init__\u001b[0;34m(self, db_handler)\u001b[0m\n\u001b[1;32m     18\u001b[0m     \u001b[38;5;28;01mraise\u001b[39;00m \u001b[38;5;167;01mValueError\u001b[39;00m(\n\u001b[1;32m     19\u001b[0m         \u001b[38;5;124m\"\u001b[39m\u001b[38;5;124mANTHROPIC_API_KEY environment variable is not set\u001b[39m\u001b[38;5;124m\"\u001b[39m)\n\u001b[1;32m     21\u001b[0m \u001b[38;5;28mself\u001b[39m\u001b[38;5;241m.\u001b[39mllm \u001b[38;5;241m=\u001b[39m ChatAnthropic(\n\u001b[1;32m     22\u001b[0m     model\u001b[38;5;241m=\u001b[39m\u001b[38;5;124m\"\u001b[39m\u001b[38;5;124mclaude-3-opus-20240229\u001b[39m\u001b[38;5;124m\"\u001b[39m, anthropic_api_key\u001b[38;5;241m=\u001b[39manthropic_api_key)\n\u001b[0;32m---> 23\u001b[0m \u001b[38;5;28mself\u001b[39m\u001b[38;5;241m.\u001b[39mdb_tool: DatabaseTool \u001b[38;5;241m=\u001b[39m \u001b[43mcreate_database_tool\u001b[49m\u001b[43m(\u001b[49m\u001b[43mdb_handler\u001b[49m\u001b[43m)\u001b[49m\n\u001b[1;32m     24\u001b[0m \u001b[38;5;28mself\u001b[39m\u001b[38;5;241m.\u001b[39mtool_executor \u001b[38;5;241m=\u001b[39m ToolExecutor([\u001b[38;5;28mself\u001b[39m\u001b[38;5;241m.\u001b[39mdb_tool])\n\u001b[1;32m     26\u001b[0m \u001b[38;5;66;03m# Initialize the graph\u001b[39;00m\n",
      "File \u001b[0;32m~/Projects/AI projects/HAL9001/src/utils/database_tool.py:60\u001b[0m, in \u001b[0;36mcreate_database_tool\u001b[0;34m(database)\u001b[0m\n\u001b[1;32m     58\u001b[0m \u001b[38;5;28;01mdef\u001b[39;00m \u001b[38;5;21mcreate_database_tool\u001b[39m(database):\n\u001b[1;32m     59\u001b[0m     db_handler \u001b[38;5;241m=\u001b[39m DatabaseHandler(database)\n\u001b[0;32m---> 60\u001b[0m     \u001b[38;5;28;01mreturn\u001b[39;00m \u001b[43mDatabaseTool\u001b[49m\u001b[43m(\u001b[49m\u001b[43mdb_handler\u001b[49m\u001b[38;5;241;43m=\u001b[39;49m\u001b[43mdb_handler\u001b[49m\u001b[43m)\u001b[49m\n",
      "File \u001b[0;32m~/Projects/AI projects/HAL9001/src/utils/database_tool.py:29\u001b[0m, in \u001b[0;36mDatabaseTool.__init__\u001b[0;34m(self, db_handler)\u001b[0m\n\u001b[1;32m     26\u001b[0m \u001b[38;5;28;01mdef\u001b[39;00m \u001b[38;5;21m__init__\u001b[39m(\u001b[38;5;28mself\u001b[39m, db_handler: DatabaseHandler):\n\u001b[1;32m     27\u001b[0m     \u001b[38;5;28msuper\u001b[39m()\u001b[38;5;241m.\u001b[39m\u001b[38;5;21m__init__\u001b[39m(\n\u001b[1;32m     28\u001b[0m         name\u001b[38;5;241m=\u001b[39m\u001b[38;5;28mself\u001b[39m\u001b[38;5;241m.\u001b[39mname,\n\u001b[0;32m---> 29\u001b[0m         description\u001b[38;5;241m=\u001b[39m\u001b[38;5;28;43mself\u001b[39;49m\u001b[38;5;241;43m.\u001b[39;49m\u001b[43mdescription\u001b[49m,\n\u001b[1;32m     30\u001b[0m         args_schema\u001b[38;5;241m=\u001b[39m\u001b[38;5;28mself\u001b[39m\u001b[38;5;241m.\u001b[39margs_schema,\n\u001b[1;32m     31\u001b[0m         func\u001b[38;5;241m=\u001b[39m\u001b[38;5;28mself\u001b[39m\u001b[38;5;241m.\u001b[39m_run\n\u001b[1;32m     32\u001b[0m     )\n\u001b[1;32m     33\u001b[0m     \u001b[38;5;28mself\u001b[39m\u001b[38;5;241m.\u001b[39m_db_handler \u001b[38;5;241m=\u001b[39m db_handler\n",
      "\u001b[0;31mAttributeError\u001b[0m: 'DatabaseTool' object has no attribute 'description'"
     ]
    }
   ],
   "source": [
    "import os\n",
    "from dotenv import load_dotenv\n",
    "from pymongo import MongoClient\n",
    "from cli.cli import create_cli\n",
    "from engine.command_handler import CommandHandler\n",
    "from database.handlers.database_handler import DatabaseHandler\n",
    "\n",
    "# Load environment variables from .env file\n",
    "load_dotenv()\n",
    "\n",
    "mongodb_uri = os.getenv('MONGODB_URI')\n",
    "db_name = os.getenv('MONGODB_DATABASE')\n",
    "\n",
    "if not mongodb_uri:\n",
    "    raise ValueError(\"MONGODB_URI environment variable is not set\")\n",
    "if not db_name:\n",
    "    raise ValueError(\"MONGODB_DATABASE environment variable is not set\")\n",
    "\n",
    "client = MongoClient(mongodb_uri)\n",
    "db = client[db_name]  # Explicitly select the database\n",
    "db_handler = DatabaseHandler(db)\n",
    "command_handler = CommandHandler(db_handler)\n",
    "\n",
    "\n"
   ]
  },
  {
   "cell_type": "code",
   "execution_count": null,
   "metadata": {},
   "outputs": [],
   "source": [
    "\n",
    "\n",
    "# Create the CLI\n",
    "cli = create_cli(command_handler)\n",
    "\n",
    "# Define the onboarding chat workflow\n",
    "\n",
    "\n",
    "def onboarding_chat(command_handler):\n",
    "    print(\"Welcome to the personalized schedule tool!\")\n",
    "    print(\"To create your schedule, we need some information about you.\")\n",
    "\n",
    "    name = input(\"What's your name? \")\n",
    "    email = input(\"What's your email address? \")\n",
    "\n",
    "    print(f\"Nice to meet you, {name}!\")\n",
    "\n",
    "    goals = input(\"What are your main goals or focus areas? \")\n",
    "    print(\"Great, we'll keep those in mind when generating your schedule.\")\n",
    "\n",
    "    # Save user data to the database\n",
    "    user_data = {\n",
    "        \"name\": name,\n",
    "        \"email\": email,\n",
    "        \"goals\": goals\n",
    "    }\n",
    "    command_handler.handle_command(\"user\", {\"action\": \"add\", **user_data})\n",
    "\n",
    "    print(\"You're all set! Let's generate your personalized schedule.\")\n",
    "    generate_schedule(command_handler)\n",
    "\n",
    "# Define the schedule generation workflow\n",
    "\n",
    "\n",
    "def generate_schedule(command_handler):\n",
    "    # Retrieve user data from the database\n",
    "    user_data = command_handler.handle_command(\"user\", {\"action\": \"get\"})\n",
    "\n",
    "    # Use the LLM model to generate the schedule based on user data\n",
    "    schedule_data = {\n",
    "        \"user_id\": user_data[\"_id\"],\n",
    "        \"goals\": user_data[\"goals\"]\n",
    "    }\n",
    "    schedule = command_handler.handle_command(\n",
    "        \"schedule\", {\"action\": \"generate\", **schedule_data})\n",
    "\n",
    "    print(\"Here's your personalized schedule:\")\n",
    "    print(schedule)\n",
    "\n",
    "\n",
    "# Run the onboarding chat\n",
    "onboarding_chat(command_handler)"
   ]
  },
  {
   "cell_type": "markdown",
   "metadata": {},
   "source": [
    "This notebook demonstrates the following:\n",
    "\n",
    "1. It loads the necessary environment variables and sets up the MongoDB database connection.\n",
    "2. It creates an instance of the `CommandHandler` class, which handles the database interactions and LLM model communication.\n",
    "3. It defines an `onboarding_chat` function that prompts the user for their name, email, and goals, and saves this data to the database using the `CommandHandler`.\n",
    "4. It defines a `generate_schedule` function that retrieves the user data from the database and uses the LLM model (via the `CommandHandler`) to generate a personalized schedule based on the user's goals.\n",
    "5. Finally, it runs the `onboarding_chat` function to start the user onboarding process and generate their personalized schedule.\n",
    "\n",
    "Note that this is a simplified example and assumes the existence of the necessary components like the `CommandHandler`, `cli` module, and the LLM model integration. You'll need to implement these components based on your specific requirements and architecture.\n",
    "\n",
    "You can run this notebook in Jupyter to see the interactive CLI prompts and the generated personalized schedule based on the user's input.\n",
    "\n",
    "Let me know if you have any further questions or if you'd like me to expand on any part of the notebook!"
   ]
  }
 ],
 "metadata": {
  "kernelspec": {
   "display_name": "venv",
   "language": "python",
   "name": "python3"
  },
  "language_info": {
   "codemirror_mode": {
    "name": "ipython",
    "version": 3
   },
   "file_extension": ".py",
   "mimetype": "text/x-python",
   "name": "python",
   "nbconvert_exporter": "python",
   "pygments_lexer": "ipython3",
   "version": "3.12.5"
  }
 },
 "nbformat": 4,
 "nbformat_minor": 2
}
