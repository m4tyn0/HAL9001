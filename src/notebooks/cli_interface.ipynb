{
 "cells": [
  {
   "cell_type": "code",
   "execution_count": null,
   "metadata": {},
   "outputs": [
    {
     "data": {
      "application/vnd.jupyter.widget-view+json": {
       "model_id": "f1aab68c84c54ad5997129e218968a5f",
       "version_major": 2,
       "version_minor": 0
      },
      "text/plain": [
       "Text(value='', description='Your name:', placeholder='Enter your name')"
      ]
     },
     "metadata": {},
     "output_type": "display_data"
    },
    {
     "data": {
      "application/vnd.jupyter.widget-view+json": {
       "model_id": "1e4713f4e7384ca5bb05096607c58376",
       "version_major": 2,
       "version_minor": 0
      },
      "text/plain": [
       "Button(description='Submit', style=ButtonStyle())"
      ]
     },
     "metadata": {},
     "output_type": "display_data"
    },
    {
     "name": "stdout",
     "output_type": "stream",
     "text": [
      "\u001b[1;35m╭──────────────────────────────────────────────────────────────────────────────╮\u001b[0m\n",
      "\u001b[1;35m│\u001b[0m \u001b[1;36m    __  __     ____         ________    ____\u001b[0m                                 \u001b[1;35m│\u001b[0m\n",
      "\u001b[1;35m│\u001b[0m \u001b[1;36m   / / / /__  / / /___     / ____/ /   /  _/\u001b[0m                                 \u001b[1;35m│\u001b[0m\n",
      "\u001b[1;35m│\u001b[0m \u001b[1;36m  / /_/ / _ \\/ / / __ \\   / /   / /    / /  \u001b[0m                                 \u001b[1;35m│\u001b[0m\n",
      "\u001b[1;35m│\u001b[0m \u001b[1;36m / __  /  __/ / / /_/ /  / /___/ /____/ /   \u001b[0m                                 \u001b[1;35m│\u001b[0m\n",
      "\u001b[1;35m│\u001b[0m \u001b[1;36m/_/ /_/\\___/_/_/\\____/   \\____/_____/___/   \u001b[0m                                 \u001b[1;35m│\u001b[0m\n",
      "\u001b[1;35m│\u001b[0m \u001b[1;36m                                            \u001b[0m                                 \u001b[1;35m│\u001b[0m\n",
      "\u001b[1;35m│\u001b[0m                                                                              \u001b[1;35m│\u001b[0m\n",
      "\u001b[1;35m╰──────────────────────────────────────────────────────────────────────────────╯\u001b[0m\n",
      "\u001b[1;32mHello\u001b[0m 👋 \u001b[1;31mbaba\u001b[0m!\n"
     ]
    },
    {
     "data": {
      "text/html": [
       "<pre style=\"white-space:pre;overflow-x:auto;line-height:normal;font-family:Menlo,'DejaVu Sans Mono',consolas,'Courier New',monospace\"><span style=\"font-style: italic\">            Command Options             </span>\n",
       "┏━━━━━━━━┳━━━━━━━━━━━━━━━━━━━━━━━━━━━━━┓\n",
       "┃<span style=\"font-weight: bold\"> Option </span>┃<span style=\"font-weight: bold\"> Description                 </span>┃\n",
       "┡━━━━━━━━╇━━━━━━━━━━━━━━━━━━━━━━━━━━━━━┩\n",
       "│<span style=\"color: #008080; text-decoration-color: #008080\"> --name </span>│<span style=\"color: #800080; text-decoration-color: #800080\"> Specify your name           </span>│\n",
       "│<span style=\"color: #008080; text-decoration-color: #008080\"> --help </span>│<span style=\"color: #800080; text-decoration-color: #800080\"> Show this message and exit. </span>│\n",
       "└────────┴─────────────────────────────┘\n",
       "</pre>\n"
      ],
      "text/plain": [
       "\u001b[3m            Command Options             \u001b[0m\n",
       "┏━━━━━━━━┳━━━━━━━━━━━━━━━━━━━━━━━━━━━━━┓\n",
       "┃\u001b[1m \u001b[0m\u001b[1mOption\u001b[0m\u001b[1m \u001b[0m┃\u001b[1m \u001b[0m\u001b[1mDescription                \u001b[0m\u001b[1m \u001b[0m┃\n",
       "┡━━━━━━━━╇━━━━━━━━━━━━━━━━━━━━━━━━━━━━━┩\n",
       "│\u001b[36m \u001b[0m\u001b[36m--name\u001b[0m\u001b[36m \u001b[0m│\u001b[35m \u001b[0m\u001b[35mSpecify your name          \u001b[0m\u001b[35m \u001b[0m│\n",
       "│\u001b[36m \u001b[0m\u001b[36m--help\u001b[0m\u001b[36m \u001b[0m│\u001b[35m \u001b[0m\u001b[35mShow this message and exit.\u001b[0m\u001b[35m \u001b[0m│\n",
       "└────────┴─────────────────────────────┘\n"
      ]
     },
     "metadata": {},
     "output_type": "display_data"
    }
   ],
   "source": [
    "import ipywidgets as widgets\n",
    "from IPython.display import display\n",
    "from rich import print as rprint\n",
    "from rich.panel import Panel\n",
    "from rich.console import Console\n",
    "from rich.table import Table\n",
    "from pyfiglet import Figlet\n",
    "\n",
    "console = Console()\n",
    "\n",
    "\n",
    "def print_ascii_art(text):\n",
    "    f = Figlet(font='slant')\n",
    "    ascii_art = f.renderText(text)\n",
    "    rprint(Panel(f\"[bold cyan]{ascii_art}[/bold cyan]\",\n",
    "           border_style=\"bold magenta\"))\n",
    "\n",
    "\n",
    "def hello(name):\n",
    "    \"\"\"Simple program that greets NAME in a stylish way.\"\"\"\n",
    "    print_ascii_art(\"Hello CLI\")\n",
    "\n",
    "    rprint(\n",
    "        f\"[bold green]Hello[/bold green] :wave: [bold red]{name}[/bold red]!\")\n",
    "\n",
    "    table = Table(title=\"Command Options\")\n",
    "    table.add_column(\"Option\", style=\"cyan\", no_wrap=True)\n",
    "    table.add_column(\"Description\", style=\"magenta\")\n",
    "    table.add_row(\"--name\", \"Specify your name\")\n",
    "    table.add_row(\"--help\", \"Show this message and exit.\")\n",
    "\n",
    "    console.print(table)\n",
    "\n",
    "\n",
    "# Create a text input widget\n",
    "name_input = widgets.Text(\n",
    "    value='',\n",
    "    placeholder='Enter your name',\n",
    "    description='Your name:',\n",
    "    disabled=False\n",
    ")\n",
    "\n",
    "# Create a button widget\n",
    "button = widgets.Button(description=\"Submit\")\n",
    "\n",
    "# Define the button click event handler\n",
    "\n",
    "\n",
    "def on_button_clicked(b):\n",
    "    hello(name_input.value)\n",
    "\n",
    "\n",
    "# Attach the event handler to the button\n",
    "button.on_click(on_button_clicked)\n",
    "\n",
    "# Display the input field and button\n",
    "display(name_input, button)"
   ]
  },
  {
   "cell_type": "code",
   "execution_count": null,
   "metadata": {},
   "outputs": [],
   "source": [
    "from rich.progress import Progress, SpinnerColumn, BarColumn, TextColumn\n",
    "from time import sleep"
   ]
  },
  {
   "cell_type": "code",
   "execution_count": null,
   "metadata": {},
   "outputs": [
    {
     "data": {
      "application/vnd.jupyter.widget-view+json": {
       "model_id": "0b6567aa775e4825bb3456ed45c9c514",
       "version_major": 2,
       "version_minor": 0
      },
      "text/plain": [
       "Text(value='', description='Your name:', placeholder='Enter your name')"
      ]
     },
     "metadata": {},
     "output_type": "display_data"
    },
    {
     "data": {
      "application/vnd.jupyter.widget-view+json": {
       "model_id": "77e7f48f2ac04d3f9ec37feb03b16b38",
       "version_major": 2,
       "version_minor": 0
      },
      "text/plain": [
       "Button(description='Submit', style=ButtonStyle())"
      ]
     },
     "metadata": {},
     "output_type": "display_data"
    },
    {
     "name": "stdout",
     "output_type": "stream",
     "text": [
      "\u001b[2K  \u001b[36mProcessing...\u001b[0m \u001b[38;2;114;156;31m━━━━━━━━━━━━━━━━━━━━━━━━━━━━━━━━━━━━━━━━\u001b[0m \u001b[35m100%\u001b[0m;249;38;114m╸\u001b[0m \u001b[35m 99%\u001b[0mm \u001b[35m 97%\u001b[0m\n",
      "\u001b[?25h\u001b[1;35m╭──────────────────────────────────────────────────────────────────────────────╮\u001b[0m\n",
      "\u001b[1;35m│\u001b[0m \u001b[1;36m    __  __     ____         ________    ____\u001b[0m                                 \u001b[1;35m│\u001b[0m\n",
      "\u001b[1;35m│\u001b[0m \u001b[1;36m   / / / /__  / / /___     / ____/ /   /  _/\u001b[0m                                 \u001b[1;35m│\u001b[0m\n",
      "\u001b[1;35m│\u001b[0m \u001b[1;36m  / /_/ / _ \\/ / / __ \\   / /   / /    / /  \u001b[0m                                 \u001b[1;35m│\u001b[0m\n",
      "\u001b[1;35m│\u001b[0m \u001b[1;36m / __  /  __/ / / /_/ /  / /___/ /____/ /   \u001b[0m                                 \u001b[1;35m│\u001b[0m\n",
      "\u001b[1;35m│\u001b[0m \u001b[1;36m/_/ /_/\\___/_/_/\\____/   \\____/_____/___/   \u001b[0m                                 \u001b[1;35m│\u001b[0m\n",
      "\u001b[1;35m│\u001b[0m \u001b[1;36m                                            \u001b[0m                                 \u001b[1;35m│\u001b[0m\n",
      "\u001b[1;35m│\u001b[0m                                                                              \u001b[1;35m│\u001b[0m\n",
      "\u001b[1;35m╰──────────────────────────────────────────────────────────────────────────────╯\u001b[0m\n",
      "\u001b[1;32mHello\u001b[0m 👋 \u001b[1;31mmatej\u001b[0m!\n"
     ]
    },
    {
     "data": {
      "text/html": [
       "<pre style=\"white-space:pre;overflow-x:auto;line-height:normal;font-family:Menlo,'DejaVu Sans Mono',consolas,'Courier New',monospace\"><span style=\"font-style: italic\">            Command Options             </span>\n",
       "┏━━━━━━━━┳━━━━━━━━━━━━━━━━━━━━━━━━━━━━━┓\n",
       "┃<span style=\"font-weight: bold\"> Option </span>┃<span style=\"font-weight: bold\"> Description                 </span>┃\n",
       "┡━━━━━━━━╇━━━━━━━━━━━━━━━━━━━━━━━━━━━━━┩\n",
       "│<span style=\"color: #008080; text-decoration-color: #008080\"> --name </span>│<span style=\"color: #800080; text-decoration-color: #800080\"> Specify your name           </span>│\n",
       "│<span style=\"color: #008080; text-decoration-color: #008080\"> --help </span>│<span style=\"color: #800080; text-decoration-color: #800080\"> Show this message and exit. </span>│\n",
       "└────────┴─────────────────────────────┘\n",
       "</pre>\n"
      ],
      "text/plain": [
       "\u001b[3m            Command Options             \u001b[0m\n",
       "┏━━━━━━━━┳━━━━━━━━━━━━━━━━━━━━━━━━━━━━━┓\n",
       "┃\u001b[1m \u001b[0m\u001b[1mOption\u001b[0m\u001b[1m \u001b[0m┃\u001b[1m \u001b[0m\u001b[1mDescription                \u001b[0m\u001b[1m \u001b[0m┃\n",
       "┡━━━━━━━━╇━━━━━━━━━━━━━━━━━━━━━━━━━━━━━┩\n",
       "│\u001b[36m \u001b[0m\u001b[36m--name\u001b[0m\u001b[36m \u001b[0m│\u001b[35m \u001b[0m\u001b[35mSpecify your name          \u001b[0m\u001b[35m \u001b[0m│\n",
       "│\u001b[36m \u001b[0m\u001b[36m--help\u001b[0m\u001b[36m \u001b[0m│\u001b[35m \u001b[0m\u001b[35mShow this message and exit.\u001b[0m\u001b[35m \u001b[0m│\n",
       "└────────┴─────────────────────────────┘\n"
      ]
     },
     "metadata": {},
     "output_type": "display_data"
    }
   ],
   "source": [
    "import ipywidgets as widgets\n",
    "from IPython.display import display\n",
    "from rich import print as rprint\n",
    "from rich.panel import Panel\n",
    "from rich.console import Console\n",
    "from rich.table import Table\n",
    "from pyfiglet import Figlet\n",
    "from rich.progress import Progress, SpinnerColumn, BarColumn, TextColumn\n",
    "from time import sleep\n",
    "\n",
    "console = Console()\n",
    "\n",
    "\n",
    "def print_ascii_art(text):\n",
    "    f = Figlet(font='slant')\n",
    "    ascii_art = f.renderText(text)\n",
    "    rprint(Panel(f\"[bold cyan]{ascii_art}[/bold cyan]\",\n",
    "           border_style=\"bold magenta\"))\n",
    "\n",
    "\n",
    "def hello(name):\n",
    "    \"\"\"Simple program that greets NAME in a stylish way.\"\"\"\n",
    "    print_ascii_art(\"Hello CLI\")\n",
    "    rprint(\n",
    "        f\"[bold green]Hello[/bold green] :wave: [bold red]{name}[/bold red]!\")\n",
    "    table = Table(title=\"Command Options\")\n",
    "    table.add_column(\"Option\", style=\"cyan\", no_wrap=True)\n",
    "    table.add_column(\"Description\", style=\"magenta\")\n",
    "    table.add_row(\"--name\", \"Specify your name\")\n",
    "    table.add_row(\"--help\", \"Show this message and exit.\")\n",
    "    console.print(table)\n",
    "\n",
    "\n",
    "def show_animation():\n",
    "    with Progress(\n",
    "        SpinnerColumn(),\n",
    "        TextColumn(\"[progress.description]{task.description}\"),\n",
    "        BarColumn(),\n",
    "        TextColumn(\"[progress.percentage]{task.percentage:>3.0f}%\"),\n",
    "    ) as progress:\n",
    "        task = progress.add_task(\"[cyan]Processing...\", total=100)\n",
    "        while not progress.finished:\n",
    "            progress.update(task, advance=1)\n",
    "            sleep(0.05)\n",
    "\n",
    "\n",
    "# Create a text input widget\n",
    "name_input = widgets.Text(\n",
    "    value='',\n",
    "    placeholder='Enter your name',\n",
    "    description='Your name:',\n",
    "    disabled=False\n",
    ")\n",
    "\n",
    "# Create a button widget\n",
    "button = widgets.Button(description=\"Submit\")\n",
    "\n",
    "# Define the button click event handler\n",
    "\n",
    "\n",
    "def on_button_clicked(b):\n",
    "    show_animation()\n",
    "    hello(name_input.value)\n",
    "\n",
    "\n",
    "# Attach the event handler to the button\n",
    "button.on_click(on_button_clicked)\n",
    "\n",
    "# Display the input field and button\n",
    "display(name_input, button)"
   ]
  },
  {
   "cell_type": "code",
   "execution_count": null,
   "metadata": {},
   "outputs": [],
   "source": []
  }
 ],
 "metadata": {
  "kernelspec": {
   "display_name": "Python 3",
   "language": "python",
   "name": "python3"
  },
  "language_info": {
   "codemirror_mode": {
    "name": "ipython",
    "version": 3
   },
   "file_extension": ".py",
   "mimetype": "text/x-python",
   "name": "python",
   "nbconvert_exporter": "python",
   "pygments_lexer": "ipython3",
   "version": "3.12.5"
  }
 },
 "nbformat": 4,
 "nbformat_minor": 2
}
